{
 "cells": [
  {
   "cell_type": "markdown",
   "metadata": {},
   "source": [
    "## Experiment 7\n",
    "#### AIM : Linear Regression with Gradient Descent\n",
    "##### To peform linear regression using gradient descent"
   ]
  },
  {
   "cell_type": "markdown",
   "metadata": {},
   "source": [
    "#### Description\n",
    "The idea of linear regression is to find a relationship between our target or dependent variable (y) and a set of explanatory variables ($x_1, x_2...$). This relatonship can then be used to predict other values.\n",
    "\n",
    "In our case with one variable, this relationship is a line defined by parameters $\\beta$ and the following form: $h_\\theta ({x}) = \\beta_0 + \\beta_1x$, where $\\beta_0$ is our intercept.\n",
    "\n",
    "This can be extended to multivariable regression by extending the equation in vector form: $h_\\theta ({x})=X\\beta$\n",
    "\n",
    "**Cost Function** - (Mean Square Error) measures the average squared difference between an observation’s actual and predicted values. The output is a single number representing the cost, or score, associated with our current set of weights. Our goal is to minimize MSE to improve the accuracy of our model.\n",
    "\n",
    "$${J}(\\theta) = \\frac{1}{2m} \\sum _{i=1}^m \\left(h_\\theta(x^{(i)})-y^{(i)}\\right)^2$$\n",
    "\n",
    "**Gradient Descent** - It is a first-order iterative optimization algorithm for finding the local minimum of a function.To minimize Cost Function we use Gradient Descent to calculate the gradient of our cost function. And we simultaneously update $\\theta_j$ for all $j$ using the equation below\n",
    "\n",
    "$$\\theta_j := \\theta_j - {\\alpha}\\frac{1}{m} \\sum _{i=1}^m \\left(h_\\theta(x^{(i)})-y^{(i)}\\right)x_j^{(i)}$$\n",
    "\n",
    "Using this equation we will update $\\theta$ in order to minimize $J(\\theta)$. Until $J(\\theta)$ converges to its local minima\n"
   ]
  },
  {
   "cell_type": "markdown",
   "metadata": {},
   "source": [
    "#### CODE and OUTPUT:"
   ]
  },
  {
   "cell_type": "code",
   "execution_count": 2,
   "metadata": {},
   "outputs": [],
   "source": [
    "# Linear Regression Using Gradient Descent\n",
    "# Required libraries\n",
    "import numpy as np\n",
    "import pandas as pd\n",
    "import matplotlib.pyplot as plt\n",
    "%matplotlib inline"
   ]
  },
  {
   "cell_type": "code",
   "execution_count": 13,
   "metadata": {},
   "outputs": [
    {
     "data": {
      "text/html": [
       "<div>\n",
       "<style scoped>\n",
       "    .dataframe tbody tr th:only-of-type {\n",
       "        vertical-align: middle;\n",
       "    }\n",
       "\n",
       "    .dataframe tbody tr th {\n",
       "        vertical-align: top;\n",
       "    }\n",
       "\n",
       "    .dataframe thead th {\n",
       "        text-align: right;\n",
       "    }\n",
       "</style>\n",
       "<table border=\"1\" class=\"dataframe\">\n",
       "  <thead>\n",
       "    <tr style=\"text-align: right;\">\n",
       "      <th></th>\n",
       "      <th>x</th>\n",
       "      <th>y</th>\n",
       "    </tr>\n",
       "  </thead>\n",
       "  <tbody>\n",
       "    <tr>\n",
       "      <th>0</th>\n",
       "      <td>6.1101</td>\n",
       "      <td>17.5920</td>\n",
       "    </tr>\n",
       "    <tr>\n",
       "      <th>1</th>\n",
       "      <td>5.5277</td>\n",
       "      <td>9.1302</td>\n",
       "    </tr>\n",
       "    <tr>\n",
       "      <th>2</th>\n",
       "      <td>8.5186</td>\n",
       "      <td>13.6620</td>\n",
       "    </tr>\n",
       "    <tr>\n",
       "      <th>3</th>\n",
       "      <td>7.0032</td>\n",
       "      <td>11.8540</td>\n",
       "    </tr>\n",
       "    <tr>\n",
       "      <th>4</th>\n",
       "      <td>5.8598</td>\n",
       "      <td>6.8233</td>\n",
       "    </tr>\n",
       "  </tbody>\n",
       "</table>\n",
       "</div>"
      ],
      "text/plain": [
       "        x        y\n",
       "0  6.1101  17.5920\n",
       "1  5.5277   9.1302\n",
       "2  8.5186  13.6620\n",
       "3  7.0032  11.8540\n",
       "4  5.8598   6.8233"
      ]
     },
     "execution_count": 13,
     "metadata": {},
     "output_type": "execute_result"
    }
   ],
   "source": [
    "# Loading Dataset\n",
    "df = pd.read_csv('data.txt',names=['x','y'])\n",
    "X_df = pd.DataFrame(df.x)\n",
    "y_df = pd.DataFrame(df.y)\n",
    "df.head()"
   ]
  },
  {
   "cell_type": "code",
   "execution_count": 15,
   "metadata": {},
   "outputs": [
    {
     "data": {
      "image/png": "[encoded data removed]",
      "text/plain": [
       "<Figure size 720x432 with 1 Axes>"
      ]
     },
     "metadata": {
      "needs_background": "light"
     },
     "output_type": "display_data"
    }
   ],
   "source": [
    "# Visualing Data\n",
    "plt.figure(figsize=(10,6))\n",
    "plt.plot(X_df,y_df,'kx')\n",
    "plt.xlabel('Population of City in 10,000s')\n",
    "plt.ylabel('Profit in $10,000s')\n",
    "plt.show()"
   ]
  },
  {
   "cell_type": "code",
   "execution_count": 5,
   "metadata": {},
   "outputs": [
    {
     "data": {
      "text/plain": [
       "(97,)"
      ]
     },
     "execution_count": 5,
     "metadata": {},
     "output_type": "execute_result"
    }
   ],
   "source": [
    "# converting Pandas DataFrame to Numpy arrays to do calculations\n",
    "X_df['bias'] = 1\n",
    "m = df.count()[0]\n",
    "X = np.array(X_df)\n",
    "y = np.array(y_df).flatten()\n",
    "y.shape"
   ]
  },
  {
   "cell_type": "code",
   "execution_count": 6,
   "metadata": {},
   "outputs": [],
   "source": [
    "# Initializing theta and Defining Parameter \n",
    "theta = np.array([0,0])\n",
    "alpha = 0.01\n",
    "iters = 1500\n"
   ]
  },
  {
   "cell_type": "code",
   "execution_count": 7,
   "metadata": {},
   "outputs": [
    {
     "data": {
      "text/plain": [
       "32.072733877455676"
      ]
     },
     "execution_count": 7,
     "metadata": {},
     "output_type": "execute_result"
    }
   ],
   "source": [
    "# Cost Function\n",
    "def cost_func(X,y,theta):\n",
    "    m = len(y)\n",
    "    return np.sum((X.dot(theta) -y)**2)/(2*m)\n",
    "cost_func(X,y,theta)"
   ]
  },
  {
   "cell_type": "code",
   "execution_count": 8,
   "metadata": {},
   "outputs": [
    {
     "data": {
      "text/plain": [
       "array([ 1.16636235, -3.63029144])"
      ]
     },
     "execution_count": 8,
     "metadata": {},
     "output_type": "execute_result"
    }
   ],
   "source": [
    "# Performing Gradient Descent on data  \n",
    "def gradientDescent(X,y,theta,alpha,iters):\n",
    "    m = len(y)\n",
    "    cost_hist = [0]*(iters+1)\n",
    "    for i in range(iters):\n",
    "        cost_hist[i] = cost_func(X,y,theta)\n",
    "        h = X.dot(theta)\n",
    "        loss = h - y\n",
    "        grad = X.T.dot(loss)/m\n",
    "        theta = theta - alpha*grad\n",
    "    \n",
    "    cost_hist[iters] = cost_func(X,y,theta)\n",
    "    return theta,cost_hist\n",
    "t,c = gradientDescent(X,y,theta,alpha,iters)\n",
    "t"
   ]
  },
  {
   "cell_type": "code",
   "execution_count": 9,
   "metadata": {},
   "outputs": [
    {
     "name": "stdout",
     "output_type": "stream",
     "text": [
      "0.4519767867701767\n",
      "4.534245012944714\n"
     ]
    }
   ],
   "source": [
    "# Predicting Values using Calculated Theta i.e. t\n",
    "print(np.array([3.5,1]).dot(t))\n",
    "print(np.array([7,1]).dot(t))"
   ]
  },
  {
   "cell_type": "code",
   "execution_count": 10,
   "metadata": {},
   "outputs": [],
   "source": [
    "# Best Fit Line \n",
    "X_best_fit = np.linspace(0,25,20)\n",
    "y_best_fit = [np.array([x,1]).dot(t) for x in X_best_fit]"
   ]
  },
  {
   "cell_type": "code",
   "execution_count": null,
   "metadata": {},
   "outputs": [],
   "source": [
    "# Plotting Best Fit Line \n",
    "plt.figure(figsize=(10,6))\n",
    "plt.plot(X_df.x,y_df,'kx')\n",
    "plt.plot(X_best_fit,y_best_fit)\n",
    "plt.axis([3,25,-5,25])\n",
    "plt.xlabel('Population of City in 10,000s')\n",
    "plt.ylabel('Profit in $10,000s')\n",
    "plt.show()"
   ]
  },
  {
   "cell_type": "markdown",
   "metadata": {},
   "source": [
    "#### LEARNING OUTCOMES : \n",
    "##### In this Experiment, we learned about linear regression using gradient descent and how can we use gradient descent to minimize cost function."
   ]
  }
 ],
 "metadata": {
  "kernelspec": {
   "display_name": "Python 3",
   "language": "python",
   "name": "python3"
  },
  "language_info": {
   "codemirror_mode": {
    "name": "ipython",
    "version": 3
   },
   "file_extension": ".py",
   "mimetype": "text/x-python",
   "name": "python",
   "nbconvert_exporter": "python",
   "pygments_lexer": "ipython3",
   "version": "3.7.0"
  }
 },
 "nbformat": 4,
 "nbformat_minor": 2
}
