{
 "cells": [
  {
   "cell_type": "markdown",
   "metadata": {},
   "source": [
    "## Experiment 3\n",
    "#### AIM : Projection of data\n",
    "##### To Perform projection of data along one axis in python.\n",
    "#### DESCRIPTION:\n",
    "    \n",
    "#### CODE and OUTPUT : "
   ]
  },
  {
   "cell_type": "code",
   "execution_count": 35,
   "metadata": {},
   "outputs": [],
   "source": [
    "# Representation of Data in Python using matplotlib\n",
    "# Libraries\n",
    "import numpy as np \n",
    "import scipy as sp\n",
    "from sklearn import datasets\n",
    "import matplotlib.pyplot as plt\n",
    "%matplotlib inline"
   ]
  },
  {
   "cell_type": "code",
   "execution_count": 36,
   "metadata": {},
   "outputs": [],
   "source": [
    "iris = datasets.load_iris()"
   ]
  },
  {
   "cell_type": "code",
   "execution_count": 37,
   "metadata": {},
   "outputs": [
    {
     "name": "stdout",
     "output_type": "stream",
     "text": [
      "[ 8.6  7.9  7.9  7.7  8.6  9.3  8.   8.4  7.3  8.   9.1  8.2  7.8  7.3\n",
      "  9.8 10.1  9.3  8.6  9.5  8.9  8.8  8.8  8.2  8.4  8.2  8.   8.4  8.7\n",
      "  8.6  7.9  7.9  8.8  9.3  9.7  8.   8.2  9.   8.5  7.4  8.5  8.5  6.8\n",
      "  7.6  8.5  8.9  7.8  8.9  7.8  9.   8.3 10.2  9.6 10.   7.8  9.3  8.5\n",
      "  9.6  7.3  9.5  7.9  7.   8.9  8.2  9.   8.5  9.8  8.6  8.5  8.4  8.1\n",
      "  9.1  8.9  8.8  8.9  9.3  9.6  9.6  9.7  8.9  8.3  7.9  7.9  8.5  8.7\n",
      "  8.4  9.4  9.8  8.6  8.6  8.   8.1  9.1  8.4  7.3  8.3  8.7  8.6  9.1\n",
      "  7.6  8.5  9.6  8.5 10.1  9.2  9.5 10.6  7.4 10.2  9.2 10.8  9.7  9.1\n",
      "  9.8  8.2  8.6  9.6  9.5 11.5 10.3  8.2 10.1  8.4 10.5  9.  10.  10.4\n",
      "  9.   9.1  9.2 10.2 10.2 11.7  9.2  9.1  8.7 10.7  9.7  9.5  9.  10.\n",
      "  9.8 10.   8.5 10.  10.   9.7  8.8  9.5  9.6  8.9]\n"
     ]
    }
   ],
   "source": [
    "X = iris.data[:,:2]\n",
    "y = iris.target\n",
    "\n",
    "vector = np.array([1,1])\n",
    "\n",
    "projection = np.matmul(X,np.transpose(vector))\n",
    "print(projection)"
   ]
  },
  {
   "cell_type": "code",
   "execution_count": 38,
   "metadata": {},
   "outputs": [
    {
     "ename": "ValueError",
     "evalue": "shapes (150,) and (2,) not aligned: 150 (dim 0) != 2 (dim 0)",
     "output_type": "error",
     "traceback": [
      "\u001b[1;31m---------------------------------------------------------------------------\u001b[0m",
      "\u001b[1;31mValueError\u001b[0m                                Traceback (most recent call last)",
      "\u001b[1;32m<ipython-input-38-082b783f60ad>\u001b[0m in \u001b[0;36m<module>\u001b[1;34m\u001b[0m\n\u001b[1;32m----> 1\u001b[1;33m \u001b[0mproject\u001b[0m \u001b[1;33m=\u001b[0m \u001b[0mnp\u001b[0m\u001b[1;33m.\u001b[0m\u001b[0mmatmul\u001b[0m\u001b[1;33m(\u001b[0m\u001b[0mprojection\u001b[0m\u001b[1;33m,\u001b[0m\u001b[0mvector\u001b[0m\u001b[1;33m)\u001b[0m\u001b[1;33m\u001b[0m\u001b[0m\n\u001b[0m",
      "\u001b[1;31mValueError\u001b[0m: shapes (150,) and (2,) not aligned: 150 (dim 0) != 2 (dim 0)"
     ]
    }
   ],
   "source": [
    "project = np.matmul(projection,vector)"
   ]
  },
  {
   "cell_type": "code",
   "execution_count": null,
   "metadata": {},
   "outputs": [],
   "source": []
  },
  {
   "cell_type": "code",
   "execution_count": null,
   "metadata": {},
   "outputs": [],
   "source": []
  }
 ],
 "metadata": {
  "kernelspec": {
   "display_name": "Python 3",
   "language": "python",
   "name": "python3"
  },
  "language_info": {
   "codemirror_mode": {
    "name": "ipython",
    "version": 3
   },
   "file_extension": ".py",
   "mimetype": "text/x-python",
   "name": "python",
   "nbconvert_exporter": "python",
   "pygments_lexer": "ipython3",
   "version": "3.7.0"
  }
 },
 "nbformat": 4,
 "nbformat_minor": 2
}
