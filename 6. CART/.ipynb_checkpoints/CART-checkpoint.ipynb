{
 "cells": [
  {
   "cell_type": "markdown",
   "metadata": {},
   "source": [
    "## Experiment 5\n",
    "#### AIM : Decision Tree using CART\n",
    "##### To build a Decision Tree using CART algorithm."
   ]
  },
  {
   "cell_type": "markdown",
   "metadata": {},
   "source": [
    "#### DESCRIPTION:\n",
    "A **decision tree** is a tree in which each branch node represents a choice between a number of alternatives, and each leaf node represents a classification or decision. \n",
    "\n",
    "**CART** - Classification And Regression Trees methodology was introduced in 1984 by Leo Breiman, Jerome Friedman, Richard Olshen and Charles Stone as an umbrella term to refer to the following types of decision trees:\n",
    "\n",
    "**Classification Trees** - where the target variable is categorical and the tree is used to identify the \"class\" within which a target variable would likely fall into.\n",
    "\n",
    "![Classification Trees](https://1.bp.blogspot.com/-vHvL7gVfvAw/UPNKEYscZpI/AAAAAAAAA14/JmTlZNo41DY/s1600/Classification+visual.PNG)\n",
    "\n",
    "**Regression Trees** - where the target variable is continuous and tree is used to predict it's value.\n",
    "![Regression Trees](https://4.bp.blogspot.com/-drfCLA5uZ4g/UPNKc9Sa_5I/AAAAAAAAA2A/Jfy9oVklNdU/s1600/Regression+visual.PNG)\n",
    "\n",
    "The **CART algorithm** is structured as a sequence of questions, the answers to which determine what the next question, if any should be.  The result of these questions is a tree like structure where the ends are terminal nodes at which point there are no more questions.\n",
    "\n",
    "**Gini impurity** is a measure of how often a randomly chosen element from the set would be incorrectly labeled if it was randomly labeled according to the distribution of labels in the subset.\n",
    "\n",
    "$${\\displaystyle \\operatorname {I} _{G}(p)=}=1-\\sum _{i=1}^{J}{p_{i}}^{2}$$"
   ]
  },
  {
   "cell_type": "markdown",
   "metadata": {},
   "source": [
    "##### Algorithm : \n",
    "``` \n",
    "ID3 algorithm (Split (node, data): \n",
    "    1. A <- the best attribute for splitting the data ( having Lowest Gini Index )\n",
    "    2. Decision attribute for this node <- A\n",
    "    3. For each value of A, create new child node\n",
    "    4. Split training data to child nodes\n",
    "    5. For each child node / subset:\n",
    "            if subset is pure: STOP\n",
    "            else: Split (child_node, {subset} ) \n",
    "``` \n",
    "#### CODE and OUTPUT :"
   ]
  },
  {
   "cell_type": "code",
   "execution_count": 1,
   "metadata": {},
   "outputs": [],
   "source": [
    "# Making Decision Tree Using CART Algorithm\n",
    "# Libraries Needed\n",
    "import numpy as np\n",
    "import math \n",
    "import pandas as pd"
   ]
  },
  {
   "cell_type": "code",
   "execution_count": 2,
   "metadata": {},
   "outputs": [],
   "source": [
    "# Node object for a Decision Tree \n",
    "class node(object):\n",
    "    def __init__(self, data=None):\n",
    "        self.child = {} \n",
    "        self.data = data"
   ]
  },
  {
   "cell_type": "code",
   "execution_count": 3,
   "metadata": {},
   "outputs": [],
   "source": [
    "# To print a Tree \n",
    "def printTree(root, Val, level):\n",
    "    if root == None:\n",
    "        return\n",
    "    print(str('\\t'*level)  +str(Val)+'->'+ root.data)\n",
    "    for child in root.child:\n",
    "        printTree(root.child[child],child,level+1)\n",
    "    return"
   ]
  },
  {
   "cell_type": "code",
   "execution_count": 4,
   "metadata": {},
   "outputs": [
    {
     "data": {
      "text/html": [
       "<div>\n",
       "<style scoped>\n",
       "    .dataframe tbody tr th:only-of-type {\n",
       "        vertical-align: middle;\n",
       "    }\n",
       "\n",
       "    .dataframe tbody tr th {\n",
       "        vertical-align: top;\n",
       "    }\n",
       "\n",
       "    .dataframe thead th {\n",
       "        text-align: right;\n",
       "    }\n",
       "</style>\n",
       "<table border=\"1\" class=\"dataframe\">\n",
       "  <thead>\n",
       "    <tr style=\"text-align: right;\">\n",
       "      <th></th>\n",
       "      <th>Outlook</th>\n",
       "      <th>Temperature</th>\n",
       "      <th>Humidity</th>\n",
       "      <th>Windy</th>\n",
       "      <th>PlayTennis</th>\n",
       "    </tr>\n",
       "  </thead>\n",
       "  <tbody>\n",
       "    <tr>\n",
       "      <th>0</th>\n",
       "      <td>Sunny</td>\n",
       "      <td>Hot</td>\n",
       "      <td>High</td>\n",
       "      <td>False</td>\n",
       "      <td>No</td>\n",
       "    </tr>\n",
       "    <tr>\n",
       "      <th>1</th>\n",
       "      <td>Sunny</td>\n",
       "      <td>Hot</td>\n",
       "      <td>High</td>\n",
       "      <td>True</td>\n",
       "      <td>No</td>\n",
       "    </tr>\n",
       "    <tr>\n",
       "      <th>2</th>\n",
       "      <td>Overcast</td>\n",
       "      <td>Hot</td>\n",
       "      <td>High</td>\n",
       "      <td>False</td>\n",
       "      <td>Yes</td>\n",
       "    </tr>\n",
       "    <tr>\n",
       "      <th>3</th>\n",
       "      <td>Rainy</td>\n",
       "      <td>Mild</td>\n",
       "      <td>High</td>\n",
       "      <td>False</td>\n",
       "      <td>Yes</td>\n",
       "    </tr>\n",
       "    <tr>\n",
       "      <th>4</th>\n",
       "      <td>Rainy</td>\n",
       "      <td>Cool</td>\n",
       "      <td>Normal</td>\n",
       "      <td>False</td>\n",
       "      <td>Yes</td>\n",
       "    </tr>\n",
       "    <tr>\n",
       "      <th>5</th>\n",
       "      <td>Rainy</td>\n",
       "      <td>Cool</td>\n",
       "      <td>Normal</td>\n",
       "      <td>True</td>\n",
       "      <td>No</td>\n",
       "    </tr>\n",
       "    <tr>\n",
       "      <th>6</th>\n",
       "      <td>Overcast</td>\n",
       "      <td>Cool</td>\n",
       "      <td>Normal</td>\n",
       "      <td>True</td>\n",
       "      <td>Yes</td>\n",
       "    </tr>\n",
       "    <tr>\n",
       "      <th>7</th>\n",
       "      <td>Sunny</td>\n",
       "      <td>Mild</td>\n",
       "      <td>High</td>\n",
       "      <td>False</td>\n",
       "      <td>No</td>\n",
       "    </tr>\n",
       "    <tr>\n",
       "      <th>8</th>\n",
       "      <td>Sunny</td>\n",
       "      <td>Cool</td>\n",
       "      <td>Normal</td>\n",
       "      <td>False</td>\n",
       "      <td>Yes</td>\n",
       "    </tr>\n",
       "    <tr>\n",
       "      <th>9</th>\n",
       "      <td>Rainy</td>\n",
       "      <td>Mild</td>\n",
       "      <td>Normal</td>\n",
       "      <td>False</td>\n",
       "      <td>Yes</td>\n",
       "    </tr>\n",
       "    <tr>\n",
       "      <th>10</th>\n",
       "      <td>Sunny</td>\n",
       "      <td>Mild</td>\n",
       "      <td>Normal</td>\n",
       "      <td>True</td>\n",
       "      <td>Yes</td>\n",
       "    </tr>\n",
       "    <tr>\n",
       "      <th>11</th>\n",
       "      <td>Overcast</td>\n",
       "      <td>Mild</td>\n",
       "      <td>High</td>\n",
       "      <td>True</td>\n",
       "      <td>Yes</td>\n",
       "    </tr>\n",
       "    <tr>\n",
       "      <th>12</th>\n",
       "      <td>Overcast</td>\n",
       "      <td>Hot</td>\n",
       "      <td>Normal</td>\n",
       "      <td>False</td>\n",
       "      <td>Yes</td>\n",
       "    </tr>\n",
       "    <tr>\n",
       "      <th>13</th>\n",
       "      <td>Rainy</td>\n",
       "      <td>Mild</td>\n",
       "      <td>High</td>\n",
       "      <td>True</td>\n",
       "      <td>No</td>\n",
       "    </tr>\n",
       "  </tbody>\n",
       "</table>\n",
       "</div>"
      ],
      "text/plain": [
       "     Outlook Temperature Humidity  Windy PlayTennis\n",
       "0      Sunny         Hot     High  False         No\n",
       "1      Sunny         Hot     High   True         No\n",
       "2   Overcast         Hot     High  False        Yes\n",
       "3      Rainy        Mild     High  False        Yes\n",
       "4      Rainy        Cool   Normal  False        Yes\n",
       "5      Rainy        Cool   Normal   True         No\n",
       "6   Overcast        Cool   Normal   True        Yes\n",
       "7      Sunny        Mild     High  False         No\n",
       "8      Sunny        Cool   Normal  False        Yes\n",
       "9      Rainy        Mild   Normal  False        Yes\n",
       "10     Sunny        Mild   Normal   True        Yes\n",
       "11  Overcast        Mild     High   True        Yes\n",
       "12  Overcast         Hot   Normal  False        Yes\n",
       "13     Rainy        Mild     High   True         No"
      ]
     },
     "execution_count": 4,
     "metadata": {},
     "output_type": "execute_result"
    }
   ],
   "source": [
    "# Read data into pandas dataframe\n",
    "data=pd.read_csv(\"tennis.csv\",delimiter=',')\n",
    "data"
   ]
  },
  {
   "cell_type": "code",
   "execution_count": 5,
   "metadata": {},
   "outputs": [],
   "source": [
    "# Differentiate data into Target and Labels\n",
    "X=data.values[:,:4]\n",
    "Y=data.values[:, 4]\n",
    "label = ['Outlook','Temperature','Humidity','Windy']\n",
    "target = 'PlayTennis'"
   ]
  },
  {
   "cell_type": "code",
   "execution_count": 6,
   "metadata": {},
   "outputs": [
    {
     "data": {
      "text/plain": [
       "{'Sunny': 5, 'Overcast': 4, 'Rainy': 5}"
      ]
     },
     "execution_count": 6,
     "metadata": {},
     "output_type": "execute_result"
    }
   ],
   "source": [
    "# Count number instances of a class present in a data or a list\n",
    "def countDistinct(att):\n",
    "    c={}\n",
    "    for val in att.unique():\n",
    "        c[val]=att[att==val].count()\n",
    "    return c\n",
    "countDistinct(data.Outlook)"
   ]
  },
  {
   "cell_type": "code",
   "execution_count": 7,
   "metadata": {},
   "outputs": [
    {
     "data": {
      "text/plain": [
       "0.48"
      ]
     },
     "execution_count": 7,
     "metadata": {},
     "output_type": "execute_result"
    }
   ],
   "source": [
    "# Calculation of GINI index \n",
    "def Gini(df):\n",
    "    c = countDistinct(df)\n",
    "    n = df.count()\n",
    "    E = 1\n",
    "    for val in c:\n",
    "        E = E - ((c[val]/n)*(c[val]/n))\n",
    "    return E\n",
    "\n",
    "Gini(data[target][data[label[0]] == 'Sunny'])"
   ]
  },
  {
   "cell_type": "code",
   "execution_count": 8,
   "metadata": {},
   "outputs": [
    {
     "data": {
      "text/plain": [
       "0.34285714285714286"
      ]
     },
     "execution_count": 8,
     "metadata": {},
     "output_type": "execute_result"
    }
   ],
   "source": [
    "# Calculation of Average GINI index using GINI index of individual value in att\n",
    "def AverageGini(data,att):\n",
    "    infoG = 0\n",
    "    n = data[att].count()\n",
    "    values = countDistinct(data[att])\n",
    "    for val in values:\n",
    "        infoG = infoG + ((values[val]/n)*Gini(data[target][data[att]==val]))\n",
    "    return infoG\n",
    "\n",
    "AverageGini(data,'Outlook')"
   ]
  },
  {
   "cell_type": "code",
   "execution_count": 9,
   "metadata": {},
   "outputs": [],
   "source": [
    "# Implementing cart and generating a tree using Average GINI index\n",
    "def cart(data,labels,target):\n",
    "    n = data[target].count()\n",
    "    vals = countDistinct(data[target])\n",
    "    for val in vals:\n",
    "        if vals[val] == n:\n",
    "            return node(data=val)\n",
    "    info = {}\n",
    "    for att in labels:\n",
    "        info[att] = AverageGini(data,att)\n",
    "    A = sorted(info,key = lambda x:x[1])[0]\n",
    "    Root = node(data=A)\n",
    "    for val in data[A].unique():\n",
    "        Root.child[val] = cart(data[data[A]==val],[x for x in labels if x!=A],target)\n",
    "    return Root\n",
    "\n",
    "Root = cart(data,label,target)"
   ]
  },
  {
   "cell_type": "code",
   "execution_count": 10,
   "metadata": {},
   "outputs": [
    {
     "name": "stdout",
     "output_type": "stream",
     "text": [
      "Root->Temperature\n",
      "\tHot->Windy\n",
      "\t\tFalse->Outlook\n",
      "\t\t\tSunny->No\n",
      "\t\t\tOvercast->Yes\n",
      "\t\tTrue->No\n",
      "\tMild->Windy\n",
      "\t\tFalse->Outlook\n",
      "\t\t\tRainy->Yes\n",
      "\t\t\tSunny->No\n",
      "\t\tTrue->Outlook\n",
      "\t\t\tSunny->Yes\n",
      "\t\t\tOvercast->Yes\n",
      "\t\t\tRainy->No\n",
      "\tCool->Windy\n",
      "\t\tFalse->Yes\n",
      "\t\tTrue->Outlook\n",
      "\t\t\tRainy->No\n",
      "\t\t\tOvercast->Yes\n"
     ]
    }
   ],
   "source": [
    "# Final Decision Tree using CART algorithm\n",
    "printTree (Root,'Root', 0)"
   ]
  },
  {
   "cell_type": "code",
   "execution_count": 11,
   "metadata": {},
   "outputs": [
    {
     "data": {
      "text/plain": [
       "'No'"
      ]
     },
     "execution_count": 11,
     "metadata": {},
     "output_type": "execute_result"
    }
   ],
   "source": [
    "# Testing with sample data i.e. Outlook = Rainy, Humidity = High, Windy = True and \n",
    "# Temperature = Mild\n",
    "Root.child['Mild'].child[True].child['Rainy'].data"
   ]
  },
  {
   "cell_type": "markdown",
   "metadata": {},
   "source": [
    "#### LEARNING OUTCOMES:\n",
    "##### In this Experiment we learned how we can efficiently classify data in a decision tree using CART Algorithm"
   ]
  }
 ],
 "metadata": {
  "kernelspec": {
   "display_name": "Python 3",
   "language": "python",
   "name": "python3"
  },
  "language_info": {
   "codemirror_mode": {
    "name": "ipython",
    "version": 3
   },
   "file_extension": ".py",
   "mimetype": "text/x-python",
   "name": "python",
   "nbconvert_exporter": "python",
   "pygments_lexer": "ipython3",
   "version": "3.7.0"
  }
 },
 "nbformat": 4,
 "nbformat_minor": 2
}
