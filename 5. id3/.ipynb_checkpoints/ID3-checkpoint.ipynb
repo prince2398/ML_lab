{
 "cells": [
  {
   "cell_type": "markdown",
   "metadata": {},
   "source": [
    "## Experiment 5\n",
    "#### AIM : Decision Tree using ID3\n",
    "##### To build a Decision Tree using ID3 algorithm.\n",
    "#### DESCRIPTION:\n",
    "A **decision tree** is a tree in which each branch node represents a choice between a number of alternatives, and each leaf node represents a classification or decision. \n",
    "\n",
    "In decision tree learning, **ID3 (Iterative Dichotomiser 3)** is an algorithm invented by Ross Quinlan used to generate a decision tree from a dataset using **Entropy** and **Information Gain**.\n",
    "\n",
    "**Entropy** ${\\displaystyle H(S)}$ is a measure of the amount of uncertainty in the (data) set ${\\displaystyle S}$(i.e. entropy characterizes the (data) set ${\\displaystyle S}$ S).\n",
    "\n",
    "$${\\displaystyle H(S)=\\sum _{x\\in X}-p(x)\\log _{2}p(x)}$$\n",
    "\n",
    "**Information gain** ${\\displaystyle IG(A)}$ is the measure of the difference in entropy from before to after the set ${\\displaystyle S}$ is split on an attribute ${\\displaystyle A}$. In other words, how much uncertainty in ${\\displaystyle S}$ was reduced after splitting set ${\\displaystyle S}$ on attribute ${\\displaystyle A}$.\n",
    "\n",
    "$${\\displaystyle IG(A,S)=H(S)-\\sum _{t\\in T}p(t)H(t)}$$\n",
    "\n",
    "* ${\\displaystyle S}$ – The current (data) set for which entropy is being calculated\n",
    "* ${\\displaystyle X}$ – Set of classes in ${\\displaystyle S}$\n",
    "* ${\\displaystyle p(x)}$ – The proportion of the number of elements in class ${\\displaystyle x}$ to the number of elements in set ${\\displaystyle S}$\n",
    "* ${\\displaystyle H(S)}$ – Entropy of set ${\\displaystyle S}$\n",
    "* ${\\displaystyle T}$ – The subsets created from splitting set ${\\displaystyle S}$ by attribute ${\\displaystyle A}$ such that ${\\displaystyle S=\\bigcup _{t\\in T}t}$\n",
    "\n",
    "##### Algorithm : \n",
    "``` \n",
    "ID3 algorithm (Split (node, data): \n",
    "    1. A <- the best attribute for splitting the data ( having highest Information \n",
    "       Gain )\n",
    "    2. Decision attribute for this node <- A\n",
    "    3. For each value of A, create new child node\n",
    "    4. Split training data to child nodes\n",
    "    5. For each child node / subset:\n",
    "            if subset is pure: STOP\n",
    "            else: Split (child_node, {subset} ) \n",
    "```\n",
    "#### CODE and OUTPUT : "
   ]
  },
  {
   "cell_type": "code",
   "execution_count": 84,
   "metadata": {},
   "outputs": [],
   "source": [
    "import numpy as np\n",
    "import math \n",
    "import pandas as pd\n",
    "import networkx as nx\n",
    "%matplotlib notebook"
   ]
  },
  {
   "cell_type": "code",
   "execution_count": 85,
   "metadata": {},
   "outputs": [
    {
     "data": {
      "text/html": [
       "<div>\n",
       "<style scoped>\n",
       "    .dataframe tbody tr th:only-of-type {\n",
       "        vertical-align: middle;\n",
       "    }\n",
       "\n",
       "    .dataframe tbody tr th {\n",
       "        vertical-align: top;\n",
       "    }\n",
       "\n",
       "    .dataframe thead th {\n",
       "        text-align: right;\n",
       "    }\n",
       "</style>\n",
       "<table border=\"1\" class=\"dataframe\">\n",
       "  <thead>\n",
       "    <tr style=\"text-align: right;\">\n",
       "      <th></th>\n",
       "      <th>Outlook</th>\n",
       "      <th>Temperature</th>\n",
       "      <th>Humidity</th>\n",
       "      <th>Windy</th>\n",
       "      <th>PlayTennis</th>\n",
       "    </tr>\n",
       "  </thead>\n",
       "  <tbody>\n",
       "    <tr>\n",
       "      <th>0</th>\n",
       "      <td>Sunny</td>\n",
       "      <td>Hot</td>\n",
       "      <td>High</td>\n",
       "      <td>False</td>\n",
       "      <td>No</td>\n",
       "    </tr>\n",
       "    <tr>\n",
       "      <th>1</th>\n",
       "      <td>Sunny</td>\n",
       "      <td>Hot</td>\n",
       "      <td>High</td>\n",
       "      <td>True</td>\n",
       "      <td>No</td>\n",
       "    </tr>\n",
       "    <tr>\n",
       "      <th>2</th>\n",
       "      <td>Overcast</td>\n",
       "      <td>Hot</td>\n",
       "      <td>High</td>\n",
       "      <td>False</td>\n",
       "      <td>Yes</td>\n",
       "    </tr>\n",
       "    <tr>\n",
       "      <th>3</th>\n",
       "      <td>Rainy</td>\n",
       "      <td>Mild</td>\n",
       "      <td>High</td>\n",
       "      <td>False</td>\n",
       "      <td>Yes</td>\n",
       "    </tr>\n",
       "    <tr>\n",
       "      <th>4</th>\n",
       "      <td>Rainy</td>\n",
       "      <td>Cool</td>\n",
       "      <td>Normal</td>\n",
       "      <td>False</td>\n",
       "      <td>Yes</td>\n",
       "    </tr>\n",
       "    <tr>\n",
       "      <th>5</th>\n",
       "      <td>Rainy</td>\n",
       "      <td>Cool</td>\n",
       "      <td>Normal</td>\n",
       "      <td>True</td>\n",
       "      <td>No</td>\n",
       "    </tr>\n",
       "    <tr>\n",
       "      <th>6</th>\n",
       "      <td>Overcast</td>\n",
       "      <td>Cool</td>\n",
       "      <td>Normal</td>\n",
       "      <td>True</td>\n",
       "      <td>Yes</td>\n",
       "    </tr>\n",
       "    <tr>\n",
       "      <th>7</th>\n",
       "      <td>Sunny</td>\n",
       "      <td>Mild</td>\n",
       "      <td>High</td>\n",
       "      <td>False</td>\n",
       "      <td>No</td>\n",
       "    </tr>\n",
       "    <tr>\n",
       "      <th>8</th>\n",
       "      <td>Sunny</td>\n",
       "      <td>Cool</td>\n",
       "      <td>Normal</td>\n",
       "      <td>False</td>\n",
       "      <td>Yes</td>\n",
       "    </tr>\n",
       "    <tr>\n",
       "      <th>9</th>\n",
       "      <td>Rainy</td>\n",
       "      <td>Mild</td>\n",
       "      <td>Normal</td>\n",
       "      <td>False</td>\n",
       "      <td>Yes</td>\n",
       "    </tr>\n",
       "    <tr>\n",
       "      <th>10</th>\n",
       "      <td>Sunny</td>\n",
       "      <td>Mild</td>\n",
       "      <td>Normal</td>\n",
       "      <td>True</td>\n",
       "      <td>Yes</td>\n",
       "    </tr>\n",
       "    <tr>\n",
       "      <th>11</th>\n",
       "      <td>Overcast</td>\n",
       "      <td>Mild</td>\n",
       "      <td>High</td>\n",
       "      <td>True</td>\n",
       "      <td>Yes</td>\n",
       "    </tr>\n",
       "    <tr>\n",
       "      <th>12</th>\n",
       "      <td>Overcast</td>\n",
       "      <td>Hot</td>\n",
       "      <td>Normal</td>\n",
       "      <td>False</td>\n",
       "      <td>Yes</td>\n",
       "    </tr>\n",
       "    <tr>\n",
       "      <th>13</th>\n",
       "      <td>Rainy</td>\n",
       "      <td>Mild</td>\n",
       "      <td>High</td>\n",
       "      <td>True</td>\n",
       "      <td>No</td>\n",
       "    </tr>\n",
       "  </tbody>\n",
       "</table>\n",
       "</div>"
      ],
      "text/plain": [
       "     Outlook Temperature Humidity  Windy PlayTennis\n",
       "0      Sunny         Hot     High  False         No\n",
       "1      Sunny         Hot     High   True         No\n",
       "2   Overcast         Hot     High  False        Yes\n",
       "3      Rainy        Mild     High  False        Yes\n",
       "4      Rainy        Cool   Normal  False        Yes\n",
       "5      Rainy        Cool   Normal   True         No\n",
       "6   Overcast        Cool   Normal   True        Yes\n",
       "7      Sunny        Mild     High  False         No\n",
       "8      Sunny        Cool   Normal  False        Yes\n",
       "9      Rainy        Mild   Normal  False        Yes\n",
       "10     Sunny        Mild   Normal   True        Yes\n",
       "11  Overcast        Mild     High   True        Yes\n",
       "12  Overcast         Hot   Normal  False        Yes\n",
       "13     Rainy        Mild     High   True         No"
      ]
     },
     "execution_count": 85,
     "metadata": {},
     "output_type": "execute_result"
    }
   ],
   "source": [
    "data=pd.read_csv(\"tennis.csv\",delimiter=',')\n",
    "data"
   ]
  },
  {
   "cell_type": "code",
   "execution_count": 115,
   "metadata": {},
   "outputs": [
    {
     "data": {
      "text/plain": [
       "0      No\n",
       "1      No\n",
       "2     Yes\n",
       "3     Yes\n",
       "4     Yes\n",
       "5      No\n",
       "6     Yes\n",
       "7      No\n",
       "8     Yes\n",
       "9     Yes\n",
       "10    Yes\n",
       "11    Yes\n",
       "12    Yes\n",
       "13     No\n",
       "Name: PlayTennis, dtype: object"
      ]
     },
     "execution_count": 115,
     "metadata": {},
     "output_type": "execute_result"
    }
   ],
   "source": [
    "X=data.values[:,:4]\n",
    "Y=data.Outlook.count()\n",
    "label = ['Outlook','Temperature','Humidity','Windy']\n",
    "target = 'PlayTennis'\n",
    "data[target]"
   ]
  },
  {
   "cell_type": "code",
   "execution_count": 87,
   "metadata": {},
   "outputs": [
    {
     "data": {
      "text/plain": [
       "{'Sunny': 5, 'Overcast': 4, 'Rainy': 5}"
      ]
     },
     "execution_count": 87,
     "metadata": {},
     "output_type": "execute_result"
    }
   ],
   "source": [
    "def countDistinct(att):\n",
    "    c={}\n",
    "    for val in att.unique():\n",
    "        c[val]=att[att==val].count()\n",
    "    return c\n",
    "countDistinct(data.Outlook)"
   ]
  },
  {
   "cell_type": "code",
   "execution_count": 88,
   "metadata": {},
   "outputs": [
    {
     "data": {
      "text/plain": [
       "0.9709505944546686"
      ]
     },
     "execution_count": 88,
     "metadata": {},
     "output_type": "execute_result"
    }
   ],
   "source": [
    "def Entropy(df):\n",
    "    c = countDistinct(df)\n",
    "    n = df.count()\n",
    "    E = 0\n",
    "    for val in c:\n",
    "        E = E - ((c[val]/n)*math.log2(c[val]/n))\n",
    "    return E\n",
    "\n",
    "Entropy(data[target][data[label[0]] == 'Sunny'])"
   ]
  },
  {
   "cell_type": "code",
   "execution_count": 107,
   "metadata": {},
   "outputs": [
    {
     "name": "stdout",
     "output_type": "stream",
     "text": [
      "{'Outlook': 0.24674981977443933, 'Temperature': 0.02922256565895487, 'Humidity': 0.15183550136234159, 'Windy': 0.048127030408269544}\n"
     ]
    }
   ],
   "source": [
    "def InfoGain(data,att):\n",
    "    infoG = Entropy(data[target])\n",
    "    n = data[att].count()\n",
    "    values = countDistinct(data[att])\n",
    "    for val in values:\n",
    "        infoG = infoG - ((values[val]/n)*Entropy(data[target][data[att]==val]))\n",
    "    return infoG\n",
    "\n",
    "info = {}\n",
    "for att in label:\n",
    "    info[att] = InfoGain(data,att)\n",
    "info = sorted(info,key = lambda x:x[1],reverse=True)\n",
    "print(info)"
   ]
  },
  {
   "cell_type": "code",
   "execution_count": 128,
   "metadata": {},
   "outputs": [
    {
     "name": "stdout",
     "output_type": "stream",
     "text": [
      "   Outlook Temperature Humidity  Windy PlayTennis\n",
      "0    Sunny         Hot     High  False         No\n",
      "1    Sunny         Hot     High   True         No\n",
      "7    Sunny        Mild     High  False         No\n",
      "8    Sunny        Cool   Normal  False        Yes\n",
      "10   Sunny        Mild   Normal   True        Yes\n",
      "  Outlook Temperature Humidity  Windy PlayTennis\n",
      "0   Sunny         Hot     High  False         No\n",
      "1   Sunny         Hot     High   True         No\n",
      "7   Sunny        Mild     High  False         No\n",
      "   Outlook Temperature Humidity  Windy PlayTennis\n",
      "8    Sunny        Cool   Normal  False        Yes\n",
      "10   Sunny        Mild   Normal   True        Yes\n",
      "     Outlook Temperature Humidity  Windy PlayTennis\n",
      "2   Overcast         Hot     High  False        Yes\n",
      "6   Overcast        Cool   Normal   True        Yes\n",
      "11  Overcast        Mild     High   True        Yes\n",
      "12  Overcast         Hot   Normal  False        Yes\n",
      "   Outlook Temperature Humidity  Windy PlayTennis\n",
      "3    Rainy        Mild     High  False        Yes\n",
      "4    Rainy        Cool   Normal  False        Yes\n",
      "5    Rainy        Cool   Normal   True         No\n",
      "9    Rainy        Mild   Normal  False        Yes\n",
      "13   Rainy        Mild     High   True         No\n",
      "   Outlook Temperature Humidity  Windy PlayTennis\n",
      "3    Rainy        Mild     High  False        Yes\n",
      "13   Rainy        Mild     High   True         No\n",
      "  Outlook Temperature Humidity  Windy PlayTennis\n",
      "3   Rainy        Mild     High  False        Yes\n",
      "   Outlook Temperature Humidity  Windy PlayTennis\n",
      "13   Rainy        Mild     High   True         No\n",
      "  Outlook Temperature Humidity  Windy PlayTennis\n",
      "4   Rainy        Cool   Normal  False        Yes\n",
      "5   Rainy        Cool   Normal   True         No\n",
      "9   Rainy        Mild   Normal  False        Yes\n",
      "  Outlook Temperature Humidity  Windy PlayTennis\n",
      "4   Rainy        Cool   Normal  False        Yes\n",
      "9   Rainy        Mild   Normal  False        Yes\n",
      "  Outlook Temperature Humidity  Windy PlayTennis\n",
      "5   Rainy        Cool   Normal   True         No\n"
     ]
    }
   ],
   "source": [
    "def id3(tree,data,labels,target):\n",
    "    n = data[target].count()\n",
    "    vals = countDistinct(data[target])\n",
    "    for val in vals:\n",
    "        if vals[val] == n:\n",
    "            Tree.add_node(val)\n",
    "            return val\n",
    "    info = {}\n",
    "    for att in labels:\n",
    "        info[att] = InfoGain(data,att)\n",
    "    A = sorted(info,key = lambda x:x[1],reverse=True)[0]\n",
    "    tree.add_node(A)\n",
    "    for val in data[A].unique():\n",
    "        print(data[data[A]==val])\n",
    "        tree.add_edge(A,id3(tree,data[data[A]==val],[x for x in labels if x!=A],target), relation=val)\n",
    "#     print(A)\n",
    "    return A\n",
    "\n",
    "Tree = nx.DiGraph()\n",
    "id3(Tree,data,label,target)\n",
    "nx.draw_networkx(Tree)"
   ]
  }
 ],
 "metadata": {
  "kernelspec": {
   "display_name": "Python 3",
   "language": "python",
   "name": "python3"
  },
  "language_info": {
   "codemirror_mode": {
    "name": "ipython",
    "version": 3
   },
   "file_extension": ".py",
   "mimetype": "text/x-python",
   "name": "python",
   "nbconvert_exporter": "python",
   "pygments_lexer": "ipython3",
   "version": "3.7.0"
  }
 },
 "nbformat": 4,
 "nbformat_minor": 2
}
