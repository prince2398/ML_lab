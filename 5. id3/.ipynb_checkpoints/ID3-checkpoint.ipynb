{
 "cells": [
  {
   "cell_type": "markdown",
   "metadata": {},
   "source": [
    "## Experiment 5\n",
    "#### AIM : Decision Tree using ID3\n",
    "##### To build a Decision Tree using ID3 algorithm.\n",
    "#### DESCRIPTION:\n",
    "A **decision tree** is a tree in which each branch node represents a choice between a number of alternatives, and each leaf node represents a classification or decision. \n",
    "\n",
    "In decision tree learning, **ID3 (Iterative Dichotomiser 3)** is an algorithm invented by Ross Quinlan used to generate a decision tree from a dataset using **Entropy** and **Information Gain**.\n",
    "\n",
    "**Entropy** ${\\displaystyle H(S)}$ is a measure of the amount of uncertainty in the (data) set ${\\displaystyle S}$(i.e. entropy characterizes the (data) set ${\\displaystyle S}$ S).\n",
    "\n",
    "$${\\displaystyle H(S)=\\sum _{x\\in X}-p(x)\\log _{2}p(x)}$$\n",
    "\n",
    "**Information gain** ${\\displaystyle IG(A)}$ is the measure of the difference in entropy from before to after the set ${\\displaystyle S}$ is split on an attribute ${\\displaystyle A}$. In other words, how much uncertainty in ${\\displaystyle S}$ was reduced after splitting set ${\\displaystyle S}$ on attribute ${\\displaystyle A}$.\n",
    "\n",
    "$${\\displaystyle IG(A,S)=H(S)-\\sum _{t\\in T}p(t)H(t)}$$\n",
    "\n",
    "* ${\\displaystyle S}$ – The current (data) set for which entropy is being calculated\n",
    "* ${\\displaystyle X}$ – Set of classes in ${\\displaystyle S}$\n",
    "* ${\\displaystyle p(x)}$ – The proportion of the number of elements in class ${\\displaystyle x}$ to the number of elements in set ${\\displaystyle S}$\n",
    "* ${\\displaystyle H(S)}$ – Entropy of set ${\\displaystyle S}$\n",
    "* ${\\displaystyle T}$ – The subsets created from splitting set ${\\displaystyle S}$ by attribute ${\\displaystyle A}$ such that ${\\displaystyle S=\\bigcup _{t\\in T}t}$\n",
    "\n",
    "##### Algorithm : \n",
    "``` \n",
    "ID3 algorithm (Split (node, data): \n",
    "    1. A <- the best attribute for splitting the data ( having highest Information \n",
    "       Gain )\n",
    "    2. Decision attribute for this node <- A\n",
    "    3. For each value of A, create new child node\n",
    "    4. Split training data to child nodes\n",
    "    5. For each child node / subset:\n",
    "            if subset is pure: STOP\n",
    "            else: Split (child_node, {subset} ) \n",
    "```\n",
    "#### CODE and OUTPUT : "
   ]
  },
  {
   "cell_type": "code",
   "execution_count": 1,
   "metadata": {},
   "outputs": [],
   "source": [
    "# Making Decision Tree Using ID3 Algorithm\n",
    "# Libraries Needed\n",
    "import numpy as np\n",
    "import math \n",
    "import pandas as pd"
   ]
  },
  {
   "cell_type": "code",
   "execution_count": 2,
   "metadata": {},
   "outputs": [],
   "source": [
    "# Node object for a Decision Tree \n",
    "class node(object):\n",
    "    def __init__(self, data=None):\n",
    "        self.child = {} \n",
    "        self.data = data"
   ]
  },
  {
   "cell_type": "code",
   "execution_count": 3,
   "metadata": {},
   "outputs": [],
   "source": [
    "# To print a Tree \n",
    "def printTree(root, Val, level):\n",
    "    if root == None:\n",
    "        return\n",
    "    print(str('\\t'*level)  +str(Val)+'->'+ root.data)\n",
    "    for child in root.child:\n",
    "        printTree(root.child[child],child,level+1)\n",
    "    return"
   ]
  },
  {
   "cell_type": "code",
   "execution_count": 4,
   "metadata": {},
   "outputs": [
    {
     "data": {
      "text/html": [
       "<div>\n",
       "<style>\n",
       "    .dataframe thead tr:only-child th {\n",
       "        text-align: right;\n",
       "    }\n",
       "\n",
       "    .dataframe thead th {\n",
       "        text-align: left;\n",
       "    }\n",
       "\n",
       "    .dataframe tbody tr th {\n",
       "        vertical-align: top;\n",
       "    }\n",
       "</style>\n",
       "<table border=\"1\" class=\"dataframe\">\n",
       "  <thead>\n",
       "    <tr style=\"text-align: right;\">\n",
       "      <th></th>\n",
       "      <th>Outlook</th>\n",
       "      <th>Temperature</th>\n",
       "      <th>Humidity</th>\n",
       "      <th>Windy</th>\n",
       "      <th>PlayTennis</th>\n",
       "    </tr>\n",
       "  </thead>\n",
       "  <tbody>\n",
       "    <tr>\n",
       "      <th>0</th>\n",
       "      <td>Sunny</td>\n",
       "      <td>Hot</td>\n",
       "      <td>High</td>\n",
       "      <td>False</td>\n",
       "      <td>No</td>\n",
       "    </tr>\n",
       "    <tr>\n",
       "      <th>1</th>\n",
       "      <td>Sunny</td>\n",
       "      <td>Hot</td>\n",
       "      <td>High</td>\n",
       "      <td>True</td>\n",
       "      <td>No</td>\n",
       "    </tr>\n",
       "    <tr>\n",
       "      <th>2</th>\n",
       "      <td>Overcast</td>\n",
       "      <td>Hot</td>\n",
       "      <td>High</td>\n",
       "      <td>False</td>\n",
       "      <td>Yes</td>\n",
       "    </tr>\n",
       "    <tr>\n",
       "      <th>3</th>\n",
       "      <td>Rainy</td>\n",
       "      <td>Mild</td>\n",
       "      <td>High</td>\n",
       "      <td>False</td>\n",
       "      <td>Yes</td>\n",
       "    </tr>\n",
       "    <tr>\n",
       "      <th>4</th>\n",
       "      <td>Rainy</td>\n",
       "      <td>Cool</td>\n",
       "      <td>Normal</td>\n",
       "      <td>False</td>\n",
       "      <td>Yes</td>\n",
       "    </tr>\n",
       "    <tr>\n",
       "      <th>5</th>\n",
       "      <td>Rainy</td>\n",
       "      <td>Cool</td>\n",
       "      <td>Normal</td>\n",
       "      <td>True</td>\n",
       "      <td>No</td>\n",
       "    </tr>\n",
       "    <tr>\n",
       "      <th>6</th>\n",
       "      <td>Overcast</td>\n",
       "      <td>Cool</td>\n",
       "      <td>Normal</td>\n",
       "      <td>True</td>\n",
       "      <td>Yes</td>\n",
       "    </tr>\n",
       "    <tr>\n",
       "      <th>7</th>\n",
       "      <td>Sunny</td>\n",
       "      <td>Mild</td>\n",
       "      <td>High</td>\n",
       "      <td>False</td>\n",
       "      <td>No</td>\n",
       "    </tr>\n",
       "    <tr>\n",
       "      <th>8</th>\n",
       "      <td>Sunny</td>\n",
       "      <td>Cool</td>\n",
       "      <td>Normal</td>\n",
       "      <td>False</td>\n",
       "      <td>Yes</td>\n",
       "    </tr>\n",
       "    <tr>\n",
       "      <th>9</th>\n",
       "      <td>Rainy</td>\n",
       "      <td>Mild</td>\n",
       "      <td>Normal</td>\n",
       "      <td>False</td>\n",
       "      <td>Yes</td>\n",
       "    </tr>\n",
       "    <tr>\n",
       "      <th>10</th>\n",
       "      <td>Sunny</td>\n",
       "      <td>Mild</td>\n",
       "      <td>Normal</td>\n",
       "      <td>True</td>\n",
       "      <td>Yes</td>\n",
       "    </tr>\n",
       "    <tr>\n",
       "      <th>11</th>\n",
       "      <td>Overcast</td>\n",
       "      <td>Mild</td>\n",
       "      <td>High</td>\n",
       "      <td>True</td>\n",
       "      <td>Yes</td>\n",
       "    </tr>\n",
       "    <tr>\n",
       "      <th>12</th>\n",
       "      <td>Overcast</td>\n",
       "      <td>Hot</td>\n",
       "      <td>Normal</td>\n",
       "      <td>False</td>\n",
       "      <td>Yes</td>\n",
       "    </tr>\n",
       "    <tr>\n",
       "      <th>13</th>\n",
       "      <td>Rainy</td>\n",
       "      <td>Mild</td>\n",
       "      <td>High</td>\n",
       "      <td>True</td>\n",
       "      <td>No</td>\n",
       "    </tr>\n",
       "  </tbody>\n",
       "</table>\n",
       "</div>"
      ],
      "text/plain": [
       "     Outlook Temperature Humidity  Windy PlayTennis\n",
       "0      Sunny         Hot     High  False         No\n",
       "1      Sunny         Hot     High   True         No\n",
       "2   Overcast         Hot     High  False        Yes\n",
       "3      Rainy        Mild     High  False        Yes\n",
       "4      Rainy        Cool   Normal  False        Yes\n",
       "5      Rainy        Cool   Normal   True         No\n",
       "6   Overcast        Cool   Normal   True        Yes\n",
       "7      Sunny        Mild     High  False         No\n",
       "8      Sunny        Cool   Normal  False        Yes\n",
       "9      Rainy        Mild   Normal  False        Yes\n",
       "10     Sunny        Mild   Normal   True        Yes\n",
       "11  Overcast        Mild     High   True        Yes\n",
       "12  Overcast         Hot   Normal  False        Yes\n",
       "13     Rainy        Mild     High   True         No"
      ]
     },
     "execution_count": 4,
     "metadata": {},
     "output_type": "execute_result"
    }
   ],
   "source": [
    "# Read data into pandas dataframe\n",
    "data=pd.read_csv(\"tennis.csv\",delimiter=',')\n",
    "data"
   ]
  },
  {
   "cell_type": "code",
   "execution_count": 5,
   "metadata": {},
   "outputs": [],
   "source": [
    "# Differentiate data into Target and Labels\n",
    "X=data.values[:,:4]\n",
    "Y=data.values[:, 4]\n",
    "label = ['Outlook','Temperature','Humidity','Windy']\n",
    "target = 'PlayTennis'"
   ]
  },
  {
   "cell_type": "code",
   "execution_count": 6,
   "metadata": {},
   "outputs": [
    {
     "data": {
      "text/plain": [
       "{'Sunny': 5, 'Overcast': 4, 'Rainy': 5}"
      ]
     },
     "execution_count": 6,
     "metadata": {},
     "output_type": "execute_result"
    }
   ],
   "source": [
    "# Count number instances of a class present in a data or a list\n",
    "def countDistinct(att):\n",
    "    c={}\n",
    "    for val in att.unique():\n",
    "        c[val]=att[att==val].count()\n",
    "    return c\n",
    "countDistinct(data.Outlook)"
   ]
  },
  {
   "cell_type": "code",
   "execution_count": 7,
   "metadata": {},
   "outputs": [
    {
     "data": {
      "text/plain": [
       "0.9709505944546686"
      ]
     },
     "execution_count": 7,
     "metadata": {},
     "output_type": "execute_result"
    }
   ],
   "source": [
    "# Calculation of Entropy \n",
    "def Entropy(df):\n",
    "    c = countDistinct(df)\n",
    "    n = df.count()\n",
    "    E = 0\n",
    "    for val in c:\n",
    "        E = E - ((c[val]/n)*math.log2(c[val]/n))\n",
    "    return E\n",
    "\n",
    "Entropy(data[target][data[label[0]] == 'Sunny'])"
   ]
  },
  {
   "cell_type": "code",
   "execution_count": 8,
   "metadata": {},
   "outputs": [
    {
     "data": {
      "text/plain": [
       "0.2467498197744391"
      ]
     },
     "execution_count": 8,
     "metadata": {},
     "output_type": "execute_result"
    }
   ],
   "source": [
    "# Calculation of Information Gain using Entropy\n",
    "def InfoGain(data,att):\n",
    "    infoG = Entropy(data[target])\n",
    "    n = data[att].count()\n",
    "    values = countDistinct(data[att])\n",
    "    for val in values:\n",
    "        infoG = infoG - ((values[val]/n)*Entropy(data[target][data[att]==val]))\n",
    "    return infoG\n",
    "\n",
    "InfoGain(data,'Outlook')"
   ]
  },
  {
   "cell_type": "code",
   "execution_count": 9,
   "metadata": {},
   "outputs": [],
   "source": [
    "# Implementing ID3 and generating a tree using Information Gain\n",
    "def id3(data,labels,target):\n",
    "    n = data[target].count()\n",
    "    vals = countDistinct(data[target])\n",
    "    for val in vals:\n",
    "        if vals[val] == n:\n",
    "            return node(data=val)\n",
    "    info = {}\n",
    "    for att in labels:\n",
    "        info[att] = InfoGain(data,att)\n",
    "    A = sorted(info,key = lambda x:x[1],reverse=True)[0]\n",
    "    Root = node(data=A)\n",
    "    for val in data[A].unique():\n",
    "        Root.child[val] = id3(data[data[A]==val],[x for x in labels if x!=A],target)\n",
    "    return Root\n",
    "\n",
    "Root = id3(data,label,target)"
   ]
  },
  {
   "cell_type": "code",
   "execution_count": 10,
   "metadata": {},
   "outputs": [
    {
     "name": "stdout",
     "output_type": "stream",
     "text": [
      "Root->Outlook\n",
      "\tSunny->Humidity\n",
      "\t\tHigh->No\n",
      "\t\tNormal->Yes\n",
      "\tOvercast->Yes\n",
      "\tRainy->Humidity\n",
      "\t\tHigh->Windy\n",
      "\t\t\tFalse->Yes\n",
      "\t\t\tTrue->No\n",
      "\t\tNormal->Windy\n",
      "\t\t\tFalse->Yes\n",
      "\t\t\tTrue->No\n"
     ]
    }
   ],
   "source": [
    "# Final Decision Tree using ID3 algorithm\n",
    "printTree (Root,'Root', 0)"
   ]
  },
  {
   "cell_type": "code",
   "execution_count": 11,
   "metadata": {},
   "outputs": [
    {
     "data": {
      "text/plain": [
       "'No'"
      ]
     },
     "execution_count": 11,
     "metadata": {},
     "output_type": "execute_result"
    }
   ],
   "source": [
    "# Testing with sample data i.e. Outlook = Rainy, Humidity = High, Windy = True and \n",
    "# Temperature = Mild\n",
    "Root.child['Rainy'].child['High'].child[ True].data"
   ]
  },
  {
   "cell_type": "markdown",
   "metadata": {},
   "source": [
    "#### LEARNING OUTCOMES:\n",
    "##### In this Experiment we learned how we can efficiently classify data in a decision tree using ID3 Algorithm"
   ]
  }
 ],
 "metadata": {
  "kernelspec": {
   "display_name": "Python 3",
   "language": "python",
   "name": "python3"
  },
  "language_info": {
   "codemirror_mode": {
    "name": "ipython",
    "version": 3
   },
   "file_extension": ".py",
   "mimetype": "text/x-python",
   "name": "python",
   "nbconvert_exporter": "python",
   "pygments_lexer": "ipython3",
   "version": "3.6.6"
  }
 },
 "nbformat": 4,
 "nbformat_minor": 2
}
