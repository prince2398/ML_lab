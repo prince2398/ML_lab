{
 "cells": [
  {
   "cell_type": "markdown",
   "metadata": {},
   "source": [
    "## Experiment 8\n",
    "#### AIM : k Nearest Neighbors\n",
    "##### To peform classification using k Nearest Neighbors\n"
   ]
  },
  {
   "cell_type": "markdown",
   "metadata": {},
   "source": [
    "#### DESCRIPTION\n",
    "\n",
    "K-Nearest Neighbors is one of the most basic yet essential classification algorithms in Machine Learning. It belongs to the supervised learning domain and finds intense application in pattern recognition, data mining and intrusion detection.\n",
    "\n",
    "It is widely disposable in real-life scenarios since it is non-parametric, meaning, it does not make any underlying assumptions about the distribution of data (as opposed to other algorithms such as GMM, which assume a Gaussian distribution of the given data).\n",
    "\n",
    "We are given some prior data (also called training data), which classifies coordinates into groups identified by an attribute."
   ]
  },
  {
   "cell_type": "markdown",
   "metadata": {},
   "source": [
    "##### ALGORITHM\n",
    "Let m be the number of training data samples. Let p be an unknown point.\n",
    "```\n",
    "1. Store the training samples in an array of data points arr[]. This means each element of this array represents a tuple (x, y).\n",
    "2. for i=0 to m:\n",
    "      Calculate Euclidean distance d(arr[i], p).\n",
    "```\n",
    "$$d({\\textbf x}_i,{\\textbf x}_l) = \\sqrt{(x_{i1}-x_{l1})^2 + (x_{i2}-x_{l2})^2 + \\cdots + (x_{ip}-x_{lp})^2} $$\n",
    "```\n",
    "3. Make set S of K smallest distances obtained. Each of these distances correspond to an already classified data point.\n",
    "4. Return the majority label among S.\n",
    "```"
   ]
  },
  {
   "cell_type": "markdown",
   "metadata": {},
   "source": [
    "#### CODE and OUTPUT:"
   ]
  },
  {
   "cell_type": "code",
   "execution_count": 1,
   "metadata": {},
   "outputs": [],
   "source": [
    "# Implementation of k Nearest Neighbors Aglorithm \n",
    "# Libraries Needed\n",
    "import numpy as np\n",
    "import pandas as pd\n",
    "import matplotlib.pyplot as plt\n",
    "from sklearn import datasets\n",
    "import math"
   ]
  },
  {
   "cell_type": "code",
   "execution_count": 2,
   "metadata": {},
   "outputs": [
    {
     "data": {
      "text/plain": [
       "((150, 4), (150,))"
      ]
     },
     "execution_count": 2,
     "metadata": {},
     "output_type": "execute_result"
    }
   ],
   "source": [
    "# Loading Data set\n",
    "iris = datasets.load_iris()\n",
    "X = iris.data\n",
    "y = iris.target\n",
    "X.shape,y.shape"
   ]
  },
  {
   "cell_type": "code",
   "execution_count": 3,
   "metadata": {},
   "outputs": [
    {
     "data": {
      "text/plain": [
       "((105, 4), (105,), (45, 4), (45,))"
      ]
     },
     "execution_count": 3,
     "metadata": {},
     "output_type": "execute_result"
    }
   ],
   "source": [
    "# Splitting dataset in Training and Testing data \n",
    "i = np.random.randn(len(y))<float(2/3)\n",
    "XTrain = X[i]\n",
    "yTrain = y[i]\n",
    "XTest = X[~i]\n",
    "yTest = y[~i]\n",
    "\n",
    "XTrain.shape,yTrain.shape,XTest.shape,yTest.shape"
   ]
  },
  {
   "cell_type": "code",
   "execution_count": 4,
   "metadata": {},
   "outputs": [
    {
     "data": {
      "text/plain": [
       "3.4641016151377544"
      ]
     },
     "execution_count": 4,
     "metadata": {},
     "output_type": "execute_result"
    }
   ],
   "source": [
    "# Euclidean Distance between 2 datapoints\n",
    "def euclideanDistance(a1,a2,length):\n",
    "    distance = 0 \n",
    "    for i in range(length):\n",
    "        distance = distance + (a1[i]-a2[i])**2\n",
    "    distance = math.sqrt(distance)\n",
    "    return distance"
   ]
  },
  {
   "cell_type": "code",
   "execution_count": 5,
   "metadata": {},
   "outputs": [
    {
     "name": "stdout",
     "output_type": "stream",
     "text": [
      "[([4, 4, 4], 'b', 1.7320508075688772)]\n"
     ]
    }
   ],
   "source": [
    "# Finding k Nearest Neighbors of test instance in Training data\n",
    "def kNearestNeighbors(trainX,trainy,instance,k):\n",
    "    dists = []\n",
    "    n = len(instance)\n",
    "    for i in range(len(trainy)):\n",
    "        dist = euclideanDistance(trainX[i],instance,n)\n",
    "        dists.append((trainX[i],trainy[i],dist))\n",
    "    dists = sorted(dists, key = lambda x:x[2])\n",
    "    neighbors = dists[:k]\n",
    "    return neighbors"
   ]
  },
  {
   "cell_type": "code",
   "execution_count": 6,
   "metadata": {},
   "outputs": [
    {
     "name": "stdout",
     "output_type": "stream",
     "text": [
      "a\n"
     ]
    }
   ],
   "source": [
    "# Getting Majority Class in Neighbors\n",
    "def getClass(neighbors):\n",
    "    classes = dict()\n",
    "    for neighbor in neighbors:\n",
    "        classes[neighbor[1]] = classes.get(neighbor[1],0) +1\n",
    "    classes = sorted(classes.items(), key = lambda x:x[1],reverse = True)\n",
    "    return classes[0][0]"
   ]
  },
  {
   "cell_type": "code",
   "execution_count": 7,
   "metadata": {},
   "outputs": [],
   "source": [
    "# Predicting Classes for test data \n",
    "prediction = []\n",
    "k=3\n",
    "for x in XTest:\n",
    "    neighbors = kNearestNeighbors(XTrain,yTrain,x,k)\n",
    "    res = getClass(neighbors)\n",
    "    prediction.append(res)"
   ]
  },
  {
   "cell_type": "code",
   "execution_count": 8,
   "metadata": {},
   "outputs": [
    {
     "data": {
      "text/plain": [
       "95.55555555555556"
      ]
     },
     "execution_count": 8,
     "metadata": {},
     "output_type": "execute_result"
    }
   ],
   "source": [
    "# Checking accuracy in predicted data\n",
    "correct = 0\n",
    "for x in range(len(yTest)):\n",
    "    if yTest[x] == prediction[x]:\n",
    "        correct += 1\n",
    "\n",
    "(correct/float(len(yTest)))*100.0"
   ]
  },
  {
   "cell_type": "markdown",
   "metadata": {},
   "source": [
    "#### LEARNING OUTCOMES : \n",
    "##### In this Experiment we learned how we can classify data using k Nearest Neighbors Algorithm"
   ]
  }
 ],
 "metadata": {
  "kernelspec": {
   "display_name": "Python 3",
   "language": "python",
   "name": "python3"
  },
  "language_info": {
   "codemirror_mode": {
    "name": "ipython",
    "version": 3
   },
   "file_extension": ".py",
   "mimetype": "text/x-python",
   "name": "python",
   "nbconvert_exporter": "python",
   "pygments_lexer": "ipython3",
   "version": "3.7.0"
  }
 },
 "nbformat": 4,
 "nbformat_minor": 2
}
